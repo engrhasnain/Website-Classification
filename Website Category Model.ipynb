{
 "cells": [
  {
   "cell_type": "code",
   "execution_count": 1,
   "id": "13bbfbad",
   "metadata": {},
   "outputs": [],
   "source": [
    "import pandas as pd\n",
    "from nltk.tokenize import word_tokenize\n",
    "import re\n",
    "from PIL import Image\n",
    "import pytesseract"
   ]
  },
  {
   "cell_type": "code",
   "execution_count": 2,
   "id": "ccb87e89",
   "metadata": {},
   "outputs": [],
   "source": [
    "df1 = pd.read_csv('output_csv') #job\n",
    "df2 = pd.read_csv('output_csv1') #ecommerce\n",
    "df3 = pd.read_csv('output_csv2') #Educational\n",
    "df = pd.concat([df1, df2, df3], ignore_index=True)\n",
    "df = df.dropna()"
   ]
  },
  {
   "cell_type": "code",
   "execution_count": 3,
   "id": "5bcc8fc8",
   "metadata": {},
   "outputs": [],
   "source": [
    "X = df['Image']\n",
    "y = df['Label']"
   ]
  },
  {
   "cell_type": "code",
   "execution_count": 4,
   "id": "719af65b",
   "metadata": {},
   "outputs": [
    {
     "name": "stdout",
     "output_type": "stream",
     "text": [
      "<class 'pandas.core.series.Series'>\n"
     ]
    }
   ],
   "source": [
    "#data preprocessing\n",
    "# Assuming X is the column containing text data and y is the target label column\n",
    "# Remove newline characters\n",
    "X = X.str.replace('\\n', ' ')\n",
    "\n",
    "# Remove multiple spaces\n",
    "X = X.str.replace(r'\\s+', ' ')\n",
    "\n",
    "# Remove special characters using regular expressions\n",
    "X = X.str.replace(r'[^a-zA-Z0-9\\s\\|\\'\\-]', '')\n",
    "\n",
    "# Convert text to lowercase\n",
    "X = X.str.lower()\n",
    "\n",
    "# Print the preprocessed data\n",
    "print(type(X))"
   ]
  },
  {
   "cell_type": "code",
   "execution_count": 5,
   "id": "2af4f352",
   "metadata": {},
   "outputs": [
    {
     "name": "stdout",
     "output_type": "stream",
     "text": [
      "Accuracy: 0.9047619047619048\n"
     ]
    }
   ],
   "source": [
    "from sklearn.feature_extraction.text import TfidfVectorizer\n",
    "from sklearn.model_selection import train_test_split\n",
    "from sklearn.svm import SVC\n",
    "from sklearn.metrics import accuracy_score\n",
    "\n",
    "X_train, X_test, y_train, y_test = train_test_split(X,y, test_size=0.3, random_state =40)\n",
    "\n",
    "tfidf_vectorizer = TfidfVectorizer()\n",
    "\n",
    "X_train_tfidf = tfidf_vectorizer.fit_transform(X_train)\n",
    "\n",
    "# Transform the test data\n",
    "X_test_tfidf = tfidf_vectorizer.transform(X_test)\n",
    "\n",
    "# Initialize and train Logistic Regression classifier\n",
    "classifier = SVC(kernel='linear')\n",
    "classifier.fit(X_train_tfidf, y_train)\n",
    "\n",
    "# Predict on the test data\n",
    "y_pred = classifier.predict(X_test_tfidf)\n",
    "\n",
    "# Evaluate the model\n",
    "accuracy = accuracy_score(y_test, y_pred)\n",
    "print(\"Accuracy:\", accuracy)"
   ]
  },
  {
   "cell_type": "code",
   "execution_count": 6,
   "id": "c71646c2",
   "metadata": {},
   "outputs": [],
   "source": [
    "def predict(image_path):\n",
    "    pytesseract.pytesseract.tesseract_cmd = 'C:\\\\Program Files\\\\Tesseract-OCR\\\\tesseract.exe'\n",
    "    image = Image.open(image_path)\n",
    "    text = pytesseract.image_to_string(image)\n",
    "    #print(type(text))\n",
    "    \n",
    "    #preprocess text data\n",
    "    #now we will apply the preprocessing step to convert the test into \n",
    "    # Assuming X is the column containing text data and y is the target label column\n",
    "    # Remove newline characters\n",
    "    text = text.replace('\\n', ' ')\n",
    "\n",
    "    # Remove multiple spaces\n",
    "    text = text.replace(r'\\s+', ' ')\n",
    "\n",
    "    # Remove special characters using regular expressions\n",
    "    text = text.replace(r'[^a-zA-Z0-9\\s\\|\\'\\-]', '')\n",
    "\n",
    "    # Convert text to lowercase\n",
    "    text = text.lower()\n",
    "\n",
    "    # Print the preprocessed data\n",
    "    #print(text)\n",
    "    text_series = pd.Series([text])\n",
    "    text_tfidf = tfidf_vectorizer.transform(text_series)\n",
    "    \n",
    "    #prediction\n",
    "    prediction = classifier.predict(text_tfidf)\n",
    "    print(r'The Intent of Your Website is' , prediction)"
   ]
  },
  {
   "cell_type": "code",
   "execution_count": 7,
   "id": "eb97549b",
   "metadata": {},
   "outputs": [
    {
     "name": "stdout",
     "output_type": "stream",
     "text": [
      "Enter the Path of Your Image: C:\\Users\\PMLS\\Desktop\\Opera Snapshot_2024-05-12_004009_www.pampers.com.png\n",
      "The Intent of Your Website is ['ecommerce']\n"
     ]
    }
   ],
   "source": [
    "image_path = input('Enter the Path of Your Image: ')\n",
    "predict(image_path)\n"
   ]
  },
  {
   "cell_type": "code",
   "execution_count": null,
   "id": "d046d2b4",
   "metadata": {},
   "outputs": [],
   "source": []
  },
  {
   "cell_type": "code",
   "execution_count": null,
   "id": "893335bb",
   "metadata": {},
   "outputs": [],
   "source": []
  },
  {
   "cell_type": "code",
   "execution_count": null,
   "id": "c17d5663",
   "metadata": {},
   "outputs": [],
   "source": []
  },
  {
   "cell_type": "code",
   "execution_count": null,
   "id": "afac6c02",
   "metadata": {},
   "outputs": [],
   "source": []
  },
  {
   "cell_type": "code",
   "execution_count": null,
   "id": "37f7eeb7",
   "metadata": {},
   "outputs": [],
   "source": []
  },
  {
   "cell_type": "code",
   "execution_count": null,
   "id": "474b6bc2",
   "metadata": {},
   "outputs": [],
   "source": []
  },
  {
   "cell_type": "code",
   "execution_count": null,
   "id": "3ae66ce6",
   "metadata": {},
   "outputs": [],
   "source": []
  }
 ],
 "metadata": {
  "kernelspec": {
   "display_name": "Python 3 (ipykernel)",
   "language": "python",
   "name": "python3"
  },
  "language_info": {
   "codemirror_mode": {
    "name": "ipython",
    "version": 3
   },
   "file_extension": ".py",
   "mimetype": "text/x-python",
   "name": "python",
   "nbconvert_exporter": "python",
   "pygments_lexer": "ipython3",
   "version": "3.11.5"
  }
 },
 "nbformat": 4,
 "nbformat_minor": 5
}
