{
 "cells": [
  {
   "cell_type": "code",
   "execution_count": 54,
   "id": "bf5e09bc",
   "metadata": {},
   "outputs": [],
   "source": [
    "import pytesseract\n",
    "from PIL import Image"
   ]
  },
  {
   "cell_type": "code",
   "execution_count": 55,
   "id": "dfe0e32f",
   "metadata": {},
   "outputs": [],
   "source": [
    "import os\n",
    "import csv"
   ]
  },
  {
   "cell_type": "code",
   "execution_count": 56,
   "id": "ddd9999b",
   "metadata": {},
   "outputs": [],
   "source": [
    "pytesseract.pytesseract.tesseract_cmd = 'C:\\\\Program Files\\\\Tesseract-OCR\\\\tesseract.exe'"
   ]
  },
  {
   "cell_type": "code",
   "execution_count": 42,
   "id": "8bdda5ee",
   "metadata": {},
   "outputs": [],
   "source": [
    "folder_path = 'C:\\\\Users\\\\PMLS\\\\Desktop\\\\ScreenShots\\\\E-commerce\\\\'"
   ]
  },
  {
   "cell_type": "code",
   "execution_count": 43,
   "id": "7de3f5bd",
   "metadata": {},
   "outputs": [],
   "source": [
    "output_csv = 'D:\\SEMESTER 6\\output_csv'"
   ]
  },
  {
   "cell_type": "code",
   "execution_count": 47,
   "id": "f62f4560",
   "metadata": {},
   "outputs": [
    {
     "name": "stdout",
     "output_type": "stream",
     "text": [
      "Error processing image Purplle E-commerce.png: (1, 'Image too large: (1817, 47313) Error during processing.')\n"
     ]
    }
   ],
   "source": [
    "# Set the maximum dimensions for images\n",
    "MAX_WIDTH = 2000\n",
    "MAX_HEIGHT = 2000\n",
    "\n",
    "with open(output_csv, 'w', newline='', encoding='utf-8') as csvfile:\n",
    "    csv_writer = csv.writer(csvfile)\n",
    "    csv_writer.writerow(['Image', 'Label'])\n",
    "\n",
    "    for filename in os.listdir(folder_path):\n",
    "        image_path = os.path.join(folder_path, filename)\n",
    "        image = Image.open(image_path)\n",
    "\n",
    "        try:\n",
    "            # Perform OCR on the image\n",
    "            text = pytesseract.image_to_string(image)\n",
    "        except pytesseract.TesseractError as e:\n",
    "            # Handle Tesseract errors\n",
    "            print(f\"Error processing image {filename}: {e}\")\n",
    "            # Resize the image\n",
    "            if image.width > MAX_WIDTH or image.height > MAX_HEIGHT:\n",
    "                image.thumbnail((MAX_WIDTH, MAX_HEIGHT))\n",
    "            try:\n",
    "                # Retry OCR after resizing\n",
    "                text = pytesseract.image_to_string(image)\n",
    "            except pytesseract.TesseractError as e:\n",
    "                # If error persists, set text to empty string\n",
    "                print(f\"Error processing resized image {filename}: {e}\")\n",
    "                text = \"\"\n",
    "\n",
    "        csv_writer.writerow([text, 'ecommerce'])"
   ]
  },
  {
   "cell_type": "code",
   "execution_count": 45,
   "id": "5d9e0e32",
   "metadata": {},
   "outputs": [],
   "source": [
    "#with open(output_csv,'w',newline='', encoding='utf-8') as csvfile:\n",
    "#    csv_writer = csv.writer(csvfile)\n",
    "#    csv_writer.writerow(['Image' , 'Label'])\n",
    "#    \n",
    "#    for filename in os.listdir(folder_path):\n",
    "#        image_path = os.path.join(folder_path, filename)\n",
    "#        image = Image.open(image_path)\n",
    "#        \n",
    "#        text = pytesseract.image_to_string(image)\n",
    "#        \n",
    "#        csv_writer.writerow([text , 'ecommerce'])"
   ]
  },
  {
   "cell_type": "code",
   "execution_count": 51,
   "id": "00165559",
   "metadata": {},
   "outputs": [],
   "source": [
    "folder_path = 'C:\\\\Users\\\\PMLS\\\\Desktop\\\\ScreenShots\\\\Jobs\\\\'"
   ]
  },
  {
   "cell_type": "code",
   "execution_count": 52,
   "id": "892a6370",
   "metadata": {},
   "outputs": [],
   "source": [
    "output_csv = 'D:\\SEMESTER 6\\output_csv'"
   ]
  },
  {
   "cell_type": "code",
   "execution_count": 53,
   "id": "15690883",
   "metadata": {},
   "outputs": [],
   "source": [
    "with open(output_csv, 'w', newline='', encoding='utf-8') as csvfile:\n",
    "    csv_writer = csv.writer(csvfile)\n",
    "    csv_writer.writerow(['Image', 'Label'])\n",
    "\n",
    "    for filename in os.listdir(folder_path):\n",
    "        image_path = os.path.join(folder_path, filename)\n",
    "        image = Image.open(image_path)\n",
    "\n",
    "        try:\n",
    "            # Perform OCR on the image\n",
    "            text = pytesseract.image_to_string(image)\n",
    "        except pytesseract.TesseractError as e:\n",
    "            # Handle Tesseract errors\n",
    "            print(f\"Error processing image {filename}: {e}\")\n",
    "            # Resize the image\n",
    "            if image.width > MAX_WIDTH or image.height > MAX_HEIGHT:\n",
    "                image.thumbnail((MAX_WIDTH, MAX_HEIGHT))\n",
    "            try:\n",
    "                # Retry OCR after resizing\n",
    "                text = pytesseract.image_to_string(image)\n",
    "            except pytesseract.TesseractError as e:\n",
    "                # If error persists, set text to empty string\n",
    "                print(f\"Error processing resized image {filename}: {e}\")\n",
    "                text = \"\"\n",
    "\n",
    "        csv_writer.writerow([text, 'job'])"
   ]
  },
  {
   "cell_type": "code",
   "execution_count": 58,
   "id": "e6d53f44",
   "metadata": {},
   "outputs": [],
   "source": [
    "folder_path = 'C:\\\\Users\\\\PMLS\\\\Desktop\\\\ScreenShots\\\\Educational\\\\'\n",
    "output_csv = 'D:\\SEMESTER 6\\output_csv'"
   ]
  },
  {
   "cell_type": "code",
   "execution_count": 59,
   "id": "cd98018d",
   "metadata": {},
   "outputs": [],
   "source": [
    "with open(output_csv, 'w', newline='', encoding='utf-8') as csvfile:\n",
    "    csv_writer = csv.writer(csvfile)\n",
    "    csv_writer.writerow(['Image', 'Label'])\n",
    "\n",
    "    for filename in os.listdir(folder_path):\n",
    "        image_path = os.path.join(folder_path, filename)\n",
    "        image = Image.open(image_path)\n",
    "\n",
    "        try:\n",
    "            # Perform OCR on the image\n",
    "            text = pytesseract.image_to_string(image)\n",
    "        except pytesseract.TesseractError as e:\n",
    "            # Handle Tesseract errors\n",
    "            print(f\"Error processing image {filename}: {e}\")\n",
    "            # Resize the image\n",
    "            if image.width > MAX_WIDTH or image.height > MAX_HEIGHT:\n",
    "                image.thumbnail((MAX_WIDTH, MAX_HEIGHT))\n",
    "            try:\n",
    "                # Retry OCR after resizing\n",
    "                text = pytesseract.image_to_string(image)\n",
    "            except pytesseract.TesseractError as e:\n",
    "                # If error persists, set text to empty string\n",
    "                print(f\"Error processing resized image {filename}: {e}\")\n",
    "                text = \"\"\n",
    "\n",
    "        csv_writer.writerow([text, 'educational'])"
   ]
  },
  {
   "cell_type": "code",
   "execution_count": null,
   "id": "e90a7aaf",
   "metadata": {},
   "outputs": [],
   "source": []
  }
 ],
 "metadata": {
  "kernelspec": {
   "display_name": "Python 3 (ipykernel)",
   "language": "python",
   "name": "python3"
  },
  "language_info": {
   "codemirror_mode": {
    "name": "ipython",
    "version": 3
   },
   "file_extension": ".py",
   "mimetype": "text/x-python",
   "name": "python",
   "nbconvert_exporter": "python",
   "pygments_lexer": "ipython3",
   "version": "3.11.5"
  }
 },
 "nbformat": 4,
 "nbformat_minor": 5
}
